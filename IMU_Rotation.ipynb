{
  "nbformat": 4,
  "nbformat_minor": 0,
  "metadata": {
    "colab": {
      "name": "IMU_Rotation.ipynb",
      "provenance": [],
      "collapsed_sections": [
        "qoujJhM6y4BU"
      ]
    },
    "kernelspec": {
      "name": "python3",
      "display_name": "Python 3"
    },
    "language_info": {
      "name": "python"
    }
  },
  "cells": [
    {
      "cell_type": "code",
      "metadata": {
        "id": "ePEcuAeLqizO"
      },
      "source": [
        "import sympy as sym\n",
        "import numpy as np\n",
        "from IPython.display import display, Markdown, Latex, HTML\n",
        "import scipy as sp\n",
        "import scipy.linalg\n",
        "import matplotlib.pyplot as plt\n",
        "from matplotlib import animation\n",
        "from mpl_toolkits.mplot3d.art3d import Poly3DCollection\n"
      ],
      "execution_count": 8,
      "outputs": []
    },
    {
      "cell_type": "code",
      "metadata": {
        "colab": {
          "base_uri": "https://localhost:8080/",
          "height": 78
        },
        "id": "rCmwhhhfulZb",
        "outputId": "f41720d4-89f1-492d-d5a0-3e091e925cb0"
      },
      "source": [
        "# Angulos de rot\n",
        "Rx= np.deg2rad(45)\n",
        "Ry= np.deg2rad(0)\n",
        "Rz= np.deg2rad(0)\n",
        "\n",
        "# Vetor gravidade\n",
        "g = sym.Matrix([[0],\n",
        "                [0],\n",
        "                [-9.8]])\n",
        "\n",
        "# Montando as matrizes de rotação (o plano rotaciona, não o vetor)\n",
        "# por isso, esta não é a matriz de rotação de um vetor no R3 (ela é equivalente à rotação de um angulo em sentido contrário em um vetor)\n",
        "# ex.: rotacionar um vetor 45º no eixo x é diferente de rotacionar o plano e manter o vetor estacionário, ou seja, rotarcionar o vetor -45º\n",
        "\n",
        "#rotação no eixo x\n",
        "Mx = sym.Matrix([[1,             0,          0],\n",
        "                 [0,    np.cos(Rx), np.sin(Rx)],\n",
        "                 [0, -1*np.sin(Rx), np.cos(Rx)]])\n",
        "#rotação no eixo y\n",
        "My = sym.Matrix([[np.cos(Ry), 0, -1*np.sin(Ry)],\n",
        "                 [         0, 1,             0],\n",
        "                 [np.sin(Ry), 0,    np.cos(Ry)]])\n",
        "#rotação no eixo z\n",
        "Mz = sym.Matrix([[   np.cos(Rz), np.sin(Rz), 0],\n",
        "                 [-1*np.sin(Rz), np.cos(Rz), 0],\n",
        "                 [            0,          0, 1]])\n",
        "\n",
        "# Pega a rotação do vetor g no R3\n",
        "Mx@My@Mz@g\n",
        "\n",
        "# Só subtrair o vetor resultante da leitura do acelerômetro\n",
        "# isso irá isolar a gravidade ( teremos somente a projeção dos vetores de aceleração no plano XY) "
      ],
      "execution_count": 11,
      "outputs": [
        {
          "output_type": "execute_result",
          "data": {
            "text/latex": "$\\displaystyle \\left[\\begin{matrix}0\\\\-6.92964645562817\\\\-6.92964645562817\\end{matrix}\\right]$",
            "text/plain": [
              "Matrix([\n",
              "[                0],\n",
              "[-6.92964645562817],\n",
              "[-6.92964645562817]])"
            ]
          },
          "metadata": {},
          "execution_count": 11
        }
      ]
    }
  ]
}